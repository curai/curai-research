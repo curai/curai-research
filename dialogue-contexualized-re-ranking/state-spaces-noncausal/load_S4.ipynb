{
 "cells": [
  {
   "cell_type": "code",
   "execution_count": 2,
   "metadata": {},
   "outputs": [],
   "source": [
    "import os\n",
    "import torch \n",
    "import torch.nn.functional as F\n",
    "import numpy as np\n",
    "from hydra import initialize, initialize_config_module, initialize_config_dir, compose\n",
    "from omegaconf import OmegaConf\n",
    "from transformers import AutoTokenizer\n",
    "from torch.distributions import Categorical\n",
    "from tqdm import tqdm\n",
    "\n",
    "from src.utils import registry\n",
    "import src.utils as utils\n",
    "from S4Models import S4LMModel, S4GlobalRanker"
   ]
  },
  {
   "cell_type": "code",
   "execution_count": 5,
   "metadata": {},
   "outputs": [
    {
     "name": "stdout",
     "output_type": "stream",
     "text": [
      "trainer:\n",
      "  device: cuda\n",
      "  accumulate_grad_batches: 16\n",
      "  max_epochs: 1\n",
      "  gradient_clip_val: 0.0\n",
      "  log_every_n_steps: 1\n",
      "  evaluation_step: 200\n",
      "  fp16: true\n",
      "  task: mlm\n",
      "checkpoint:\n",
      "  dirpath: checkpoints\n",
      "  verbose: true\n",
      "  path: null\n",
      "dataset:\n",
      "  _name_: wiki\n",
      "  data: wikipedia\n",
      "  subset: 20220301.en\n",
      "  cache_dir: ../cache\n",
      "  test_size: 0.0001\n",
      "  tokenizer: bert-base-uncased\n",
      "  batch_size: 2\n",
      "  l_max: 4096\n",
      "optimizer:\n",
      "  _name_: adamw\n",
      "  lr: 0.0001\n",
      "  weight_decay: 0.0001\n",
      "scheduler:\n",
      "  _name_: cosine_warmup\n",
      "  num_warmup_steps: 1000\n",
      "  num_training_steps: 800000\n",
      "embedding:\n",
      "  rescale: true\n",
      "  d_model: ${model.d_model}\n",
      "  n_tokens: 30522\n",
      "decoder:\n",
      "  tied: false\n",
      "  d_output: ${model.d_model}\n",
      "model:\n",
      "  layer:\n",
      "  - _name_: s4\n",
      "    d_state: 64\n",
      "    l_max: ${dataset.l_max}\n",
      "    postact: glu\n",
      "    dropout: ${...dropout}\n",
      "    lr: ${optimizer.lr}\n",
      "    n_ssm: 128\n",
      "    bidirectional: true\n",
      "  - _name_: s4\n",
      "    d_state: 64\n",
      "    l_max: ${dataset.l_max}\n",
      "    postact: glu\n",
      "    dropout: ${...dropout}\n",
      "    lr: ${optimizer.lr}\n",
      "    n_ssm: 128\n",
      "    bidirectional: true\n",
      "  - _name_: ff\n",
      "    expand: 2\n",
      "    activation: gelu\n",
      "    dropout: ${...dropout}\n",
      "  _name_: model\n",
      "  prenorm: true\n",
      "  transposed: false\n",
      "  n_layers: 12\n",
      "  d_model: 768\n",
      "  residual: R\n",
      "  pool:\n",
      "    _name_: pool\n",
      "    stride: 1\n",
      "    expand: 1\n",
      "  norm: layer\n",
      "  dropout: 0.1\n",
      "  tie_dropout: false\n",
      "  track_norms: true\n",
      "  dropinp: 0.0\n",
      "\n"
     ]
    }
   ],
   "source": [
    "with initialize(version_base=None, config_path=\"configs\"):\n",
    "    \n",
    "    config=compose(config_name=\"wiki_noncausal_lm_config.yaml\")\n",
    "    print(OmegaConf.to_yaml(config))\n",
    "    OmegaConf.set_struct(config, False)"
   ]
  },
  {
   "cell_type": "code",
   "execution_count": 7,
   "metadata": {},
   "outputs": [
    {
     "data": {
      "text/plain": [
       "105.023232"
      ]
     },
     "execution_count": 7,
     "metadata": {},
     "output_type": "execute_result"
    }
   ],
   "source": [
    "model = S4LMModel(config)\n",
    "state_dict = torch.load('pytorch_model.bin',map_location='cpu')\n",
    "model.load_state_dict(state_dict,strict=True)\n",
    "def count_parameters(model):\n",
    "    return sum(p.numel() for p in model.parameters() if p.requires_grad)\n",
    "count_parameters(model)/1000000"
   ]
  }
 ],
 "metadata": {
  "kernelspec": {
   "display_name": "Python 3.9.7 ('base')",
   "language": "python",
   "name": "python3"
  },
  "language_info": {
   "codemirror_mode": {
    "name": "ipython",
    "version": 3
   },
   "file_extension": ".py",
   "mimetype": "text/x-python",
   "name": "python",
   "nbconvert_exporter": "python",
   "pygments_lexer": "ipython3",
   "version": "3.9.7"
  },
  "orig_nbformat": 4,
  "vscode": {
   "interpreter": {
    "hash": "40d3a090f54c6569ab1632332b64b2c03c39dcf918b08424e98f38b5ae0af88f"
   }
  }
 },
 "nbformat": 4,
 "nbformat_minor": 2
}
