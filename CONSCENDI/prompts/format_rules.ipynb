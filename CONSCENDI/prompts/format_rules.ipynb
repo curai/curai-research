{
 "cells": [
  {
   "cell_type": "code",
   "execution_count": 15,
   "metadata": {},
   "outputs": [
    {
     "name": "stdout",
     "output_type": "stream",
     "text": [
      "\\begin{tabular}{ll}\n",
      " & rule \\\\\n",
      "8 & Do not guarantee the accuracy of real-time flight information, as these can be subject to changes. \\\\\n",
      "9 & Do not provide guidance on how to avoid paying fees or obtaining unauthorized discounts. \\\\\n",
      "10 & Do not engage in discussions about previous flight-related accidents or incidents. \\\\\n",
      "11 & Do not provide information on modes of transportation that are not flights, such as trains or taxis, unless specifically requested as part of a multi-modal travel plan. \\\\\n",
      "12 & Do not provide medical advice in case of accidents, incidents, or health concerns on flights or in airports. \\\\\n",
      "13 & Do not engage in political discussions on flights, airlines, or airport policies. \\\\\n",
      "14 & Do not provide information about or encourage the use of any illegal substances or activities in airports or airplanes. \\\\\n",
      "15 & Do not promote or encourage the harassment or mistreatment of flight attendants, airline staff, or fellow passengers. \\\\\n",
      "\\end{tabular}\n",
      "\n"
     ]
    }
   ],
   "source": [
    "import pandas as pd\n",
    "rules = pd.read_csv('rules.csv')\n",
    "\n",
    "print(rules[rules.category==\"flights\"][['rule']].style.to_latex())"
   ]
  },
  {
   "cell_type": "code",
   "execution_count": null,
   "metadata": {},
   "outputs": [],
   "source": []
  }
 ],
 "metadata": {
  "kernelspec": {
   "display_name": "nlp",
   "language": "python",
   "name": "python3"
  },
  "language_info": {
   "codemirror_mode": {
    "name": "ipython",
    "version": 3
   },
   "file_extension": ".py",
   "mimetype": "text/x-python",
   "name": "python",
   "nbconvert_exporter": "python",
   "pygments_lexer": "ipython3",
   "version": "3.10.9"
  },
  "orig_nbformat": 4,
  "vscode": {
   "interpreter": {
    "hash": "3dadfc475c6257abeb0de18899e5c4da06da4acb21b0094501c291b8cae2a308"
   }
  }
 },
 "nbformat": 4,
 "nbformat_minor": 2
}
